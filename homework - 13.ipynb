{
 "cells": [
  {
   "cell_type": "code",
   "execution_count": 136,
   "metadata": {},
   "outputs": [
    {
     "data": {
      "text/html": [
       "<div>\n",
       "<style scoped>\n",
       "    .dataframe tbody tr th:only-of-type {\n",
       "        vertical-align: middle;\n",
       "    }\n",
       "\n",
       "    .dataframe tbody tr th {\n",
       "        vertical-align: top;\n",
       "    }\n",
       "\n",
       "    .dataframe thead th {\n",
       "        text-align: right;\n",
       "    }\n",
       "</style>\n",
       "<table border=\"1\" class=\"dataframe\">\n",
       "  <thead>\n",
       "    <tr style=\"text-align: right;\">\n",
       "      <th></th>\n",
       "      <th>rating</th>\n",
       "    </tr>\n",
       "    <tr>\n",
       "      <th>movieId</th>\n",
       "      <th></th>\n",
       "    </tr>\n",
       "  </thead>\n",
       "  <tbody>\n",
       "    <tr>\n",
       "      <th>318</th>\n",
       "      <td>153</td>\n",
       "    </tr>\n",
       "  </tbody>\n",
       "</table>\n",
       "</div>"
      ],
      "text/plain": [
       "         rating\n",
       "movieId        \n",
       "318         153"
      ]
     },
     "execution_count": 136,
     "metadata": {},
     "output_type": "execute_result"
    }
   ],
   "source": [
    "import pandas as pd\n",
    "data = pd.read_csv('ratings.csv')\n",
    "res = data[(data.rating == 5)].groupby('movieId').agg({'rating':'count'}).sort_values( 'rating', ascending=False)\n",
    "res.head(1)"
   ]
  },
  {
   "cell_type": "code",
   "execution_count": 137,
   "metadata": {},
   "outputs": [
    {
     "data": {
      "text/html": [
       "<div>\n",
       "<style scoped>\n",
       "    .dataframe tbody tr th:only-of-type {\n",
       "        vertical-align: middle;\n",
       "    }\n",
       "\n",
       "    .dataframe tbody tr th {\n",
       "        vertical-align: top;\n",
       "    }\n",
       "\n",
       "    .dataframe thead th {\n",
       "        text-align: right;\n",
       "    }\n",
       "</style>\n",
       "<table border=\"1\" class=\"dataframe\">\n",
       "  <thead>\n",
       "    <tr style=\"text-align: right;\">\n",
       "      <th></th>\n",
       "      <th>quantity</th>\n",
       "    </tr>\n",
       "    <tr>\n",
       "      <th>country</th>\n",
       "      <th></th>\n",
       "    </tr>\n",
       "  </thead>\n",
       "  <tbody>\n",
       "    <tr>\n",
       "      <th>Estonia</th>\n",
       "      <td>63440.0</td>\n",
       "    </tr>\n",
       "    <tr>\n",
       "      <th>Latvia</th>\n",
       "      <td>54844.0</td>\n",
       "    </tr>\n",
       "    <tr>\n",
       "      <th>Lithuania</th>\n",
       "      <td>122296.0</td>\n",
       "    </tr>\n",
       "  </tbody>\n",
       "</table>\n",
       "</div>"
      ],
      "text/plain": [
       "           quantity\n",
       "country            \n",
       "Estonia     63440.0\n",
       "Latvia      54844.0\n",
       "Lithuania  122296.0"
      ]
     },
     "execution_count": 137,
     "metadata": {},
     "output_type": "execute_result"
    }
   ],
   "source": [
    "import pandas as pd\n",
    "data = pd.read_csv('power.csv')\n",
    "res = data[(data.country.isin(['Latvia', 'Estonia', 'Lithuania']))&\n",
    "(data.year.isin(['2005','2006','2007','2008','2009','2010']))&\n",
    "(data.category.isin(['4','12','21']))&\n",
    "(data.quantity>0)].groupby('country').agg({'quantity':'sum'})\n",
    "res.head(3)"
   ]
  },
  {
   "cell_type": "code",
   "execution_count": 138,
   "metadata": {},
   "outputs": [
    {
     "data": {
      "text/plain": [
       "[    Unnamed: 0              Рубль  Предложение  Спрос  Предыдущее закрытие  \\\n",
       " 0          NaN            GBP/RUB      1016872      -              1022006   \n",
       " 1          NaN            EUR/RUB       892935      -               895850   \n",
       " 2          NaN            USD/RUB       736193      -               738989   \n",
       " 3          NaN            JPY/RUB        07029      -                07065   \n",
       " 4          NaN            CNY/RUB       113995      -               114450   \n",
       " 5          NaN            CHF/RUB       826798      -               830119   \n",
       " 6          NaN               Евро  Предложение  Спрос  Предыдущее закрытие   \n",
       " 7          NaN            EUR/USD        12129      -                12119   \n",
       " 8          NaN            EUR/GBP        08782      -                08764   \n",
       " 9          NaN            EUR/JPY      1270410      -              1267800   \n",
       " 10         NaN            EUR/CHF        10802      -                10792   \n",
       " 11         NaN         Доллар США  Предложение  Спрос  Предыдущее закрытие   \n",
       " 12         NaN            USD/EUR        08244      -                08252   \n",
       " 13         NaN            USD/GBP        07241      -                07232   \n",
       " 14         NaN            USD/JPY      1047335      -              1046230   \n",
       " 15         NaN            USD/CHF        08904      -                08905   \n",
       " 16         NaN      Японская иена  Предложение  Спрос  Предыдущее закрытие   \n",
       " 17         NaN    JPY/EUR (100:1)        07900      -                07900   \n",
       " 18         NaN            JPY/GBP        00069      -                00069   \n",
       " 19         NaN            JPY/USD        00096      -                00096   \n",
       " 20         NaN    JPY/CHF (100:1)        08500      -                08500   \n",
       " 21         NaN    Фунт стерлингов  Предложение  Спрос  Предыдущее закрытие   \n",
       " 22         NaN            GBP/USD        13811      -                13831   \n",
       " 23         NaN            GBP/JPY      1446600      -              1446567   \n",
       " 24         NaN            GBP/EUR        11386      -                11413   \n",
       " 25         NaN            GBP/CHF        12300      -                12316   \n",
       " 26         NaN  Швейцарский франк  Предложение  Спрос  Предыдущее закрытие   \n",
       " 27         NaN            GBP/CHF        12300      -                12316   \n",
       " 28         NaN            EUR/CHF        10802      -                10792   \n",
       " 29         NaN    JPY/CHF (100:1)        08500      -                08500   \n",
       " 30         NaN            USD/CHF        08904      -                08905   \n",
       " 31         NaN  Украинская гривна  Предложение  Спрос  Предыдущее закрытие   \n",
       " 32         NaN            EUR/UAH       336593      -               337894   \n",
       " 33         NaN            USD/UAH       277500      -               278825   \n",
       " 34         NaN            CHF/UAH       311587      -               313146   \n",
       " 35         NaN            GBP/UAH       383310      -               385531   \n",
       " \n",
       "           %  Абсолютное значение     Время  \n",
       " 0   -0,50 %               -05135  19:17:00  \n",
       " 1   -0,33 %               -02915  19:17:00  \n",
       " 2   -0,38 %               -02796  19:17:00  \n",
       " 3   -0,51 %               -00036  19:17:00  \n",
       " 4   -0,40 %               -00454  19:17:00  \n",
       " 5   -0,40 %               -03321  19:17:00  \n",
       " 6         %  Абсолютное значение     Время  \n",
       " 7    0,09 %                00011  19:17:00  \n",
       " 8    0,21 %                00019  19:17:00  \n",
       " 9    0,21 %                02610  19:17:00  \n",
       " 10   0,09 %                00010  19:17:00  \n",
       " 11        %  Абсолютное значение     Время  \n",
       " 12  -0,09 %               -00008  19:15:00  \n",
       " 13   0,12 %                00008  19:17:00  \n",
       " 14   0,11 %                01105  19:17:00  \n",
       " 15  -0,01 %               -00001  19:17:00  \n",
       " 16        %  Абсолютное значение     Время  \n",
       " 17  -0,20 %                00000  19:16:00  \n",
       " 18   0,00 %                00000  19:17:00  \n",
       " 19  -0,11 %                00000  19:16:00  \n",
       " 20  -0,11 %                00000  19:17:00  \n",
       " 21        %  Абсолютное значение     Время  \n",
       " 22  -0,14 %               -00020  19:17:00  \n",
       " 23   0,00 %                00033  19:17:00  \n",
       " 24  -0,23 %               -00027  19:17:00  \n",
       " 25  -0,13 %               -00016  19:17:00  \n",
       " 26        %  Абсолютное значение     Время  \n",
       " 27  -0,13 %               -00016  19:17:00  \n",
       " 28   0,09 %                00010  19:17:00  \n",
       " 29  -0,11 %                00000  19:17:00  \n",
       " 30  -0,01 %               -00001  19:17:00  \n",
       " 31        %  Абсолютное значение     Время  \n",
       " 32  -0,39 %               -01301  19:15:00  \n",
       " 33  -0,48 %               -01326  19:15:00  \n",
       " 34  -0,50 %               -01559  19:17:00  \n",
       " 35  -0,58 %               -02221  19:17:00  ]"
      ]
     },
     "execution_count": 138,
     "metadata": {},
     "output_type": "execute_result"
    }
   ],
   "source": [
    "import pandas as pd\n",
    "url = 'https://www.finanz.ru/valyuty/v-realnom-vremeni'\n",
    "res_1 = pd.read_html(url, attrs = {'class': 'quote_list'}, encoding='utf-8')\n",
    "res_1"
   ]
  },
  {
   "cell_type": "code",
   "execution_count": null,
   "metadata": {},
   "outputs": [],
   "source": []
  }
 ],
 "metadata": {
  "kernelspec": {
   "display_name": "Python 3",
   "language": "python",
   "name": "python3"
  },
  "language_info": {
   "codemirror_mode": {
    "name": "ipython",
    "version": 3
   },
   "file_extension": ".py",
   "mimetype": "text/x-python",
   "name": "python",
   "nbconvert_exporter": "python",
   "pygments_lexer": "ipython3",
   "version": "3.8.5"
  }
 },
 "nbformat": 4,
 "nbformat_minor": 4
}
